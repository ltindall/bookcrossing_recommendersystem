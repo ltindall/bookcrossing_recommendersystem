{
 "cells": [
  {
   "cell_type": "markdown",
   "metadata": {},
   "source": [
    "### Notes\n",
    "\n",
    "https://towardsdatascience.com/my-journey-to-building-book-recommendation-system-5ec959c41847"
   ]
  },
  {
   "cell_type": "markdown",
   "metadata": {},
   "source": [
    "### Import libraries"
   ]
  },
  {
   "cell_type": "code",
   "execution_count": 1,
   "metadata": {},
   "outputs": [],
   "source": [
    "import urllib.request\n",
    "import zipfile\n",
    "import csv"
   ]
  },
  {
   "cell_type": "markdown",
   "metadata": {},
   "source": [
    "### Download and unzip dataset "
   ]
  },
  {
   "cell_type": "code",
   "execution_count": 2,
   "metadata": {},
   "outputs": [],
   "source": [
    "urllib.request.urlretrieve('http://www2.informatik.uni-freiburg.de/~cziegler/BX/BX-CSV-Dump.zip', 'bookcrossing.zip')\n",
    "\n",
    "\n",
    "with zipfile.ZipFile('bookcrossing.zip', 'r') as zip_ref:\n",
    "    zip_ref.extractall('data')"
   ]
  },
  {
   "cell_type": "markdown",
   "metadata": {},
   "source": [
    "### Get ratings data"
   ]
  },
  {
   "cell_type": "code",
   "execution_count": 3,
   "metadata": {},
   "outputs": [],
   "source": [
    "ratings = {} # (userId, isbn): rating\n",
    "\n",
    "with open('data/BX-Book-Ratings.csv', newline='', encoding=\"iso-8859-1\") as f:\n",
    "    reader = csv.DictReader(f, delimiter=';')\n",
    "    for row in reader:\n",
    "        \n",
    "        userId = row['User-ID']\n",
    "        isbn = row['ISBN']\n",
    "        rating = row['Book-Rating']\n",
    "        \n",
    "        ratings[(userId, isbn)] = rating\n",
    "        "
   ]
  },
  {
   "cell_type": "markdown",
   "metadata": {},
   "source": [
    "### Get users data "
   ]
  },
  {
   "cell_type": "code",
   "execution_count": 4,
   "metadata": {},
   "outputs": [],
   "source": [
    "users = [] # list of userId's\n",
    "userInfo = {} # (userId): {'location':'NYC', 'age':'18'}\n",
    "\n",
    "with open('data/BX-Users.csv', newline='', encoding=\"iso-8859-1\") as f:\n",
    "    reader = csv.DictReader(f, delimiter=';')\n",
    "    for row in reader:\n",
    "        \n",
    "        userId = row['User-ID']\n",
    "        userLocation = row['Location']\n",
    "        userAge = row['Age']\n",
    "        \n",
    "        users.append(userId)\n",
    "        \n",
    "        userInfo[userId] = {}\n",
    "        userInfo[userId]['location'] = userLocation\n",
    "        userInfo[userId]['age'] = userAge\n",
    "        \n",
    "\n"
   ]
  },
  {
   "cell_type": "markdown",
   "metadata": {},
   "source": [
    "### Get books data "
   ]
  },
  {
   "cell_type": "code",
   "execution_count": 5,
   "metadata": {},
   "outputs": [],
   "source": [
    "books = [] # list of bookId's\n",
    "bookInfo = {} # (userId): {'location':'NYC', 'age':'18'}\n",
    "\n",
    "with open('data/BX-Books.csv', newline='', encoding=\"iso-8859-1\") as f:\n",
    "    reader = csv.DictReader(f, delimiter=';')\n",
    "    for row in reader:\n",
    "        \n",
    "        bookId = row['ISBN']\n",
    "        bookTitle = row['Book-Title']\n",
    "        bookAuthor = row['Book-Author']\n",
    "        bookYear = row['Year-Of-Publication']\n",
    "        bookPublisher = row['Publisher']\n",
    "        \n",
    "        books.append(bookId)\n",
    "        \n",
    "        bookInfo[bookId] = {}\n",
    "        bookInfo[bookId]['title'] = bookTitle\n",
    "        bookInfo[bookId]['author'] = bookAuthor\n",
    "        bookInfo[bookId]['year'] = bookYear\n",
    "        bookInfo[bookId]['publisher'] = bookPublisher\n"
   ]
  },
  {
   "cell_type": "code",
   "execution_count": null,
   "metadata": {},
   "outputs": [],
   "source": []
  }
 ],
 "metadata": {
  "kernelspec": {
   "display_name": "Python 3",
   "language": "python",
   "name": "python3"
  },
  "language_info": {
   "codemirror_mode": {
    "name": "ipython",
    "version": 3
   },
   "file_extension": ".py",
   "mimetype": "text/x-python",
   "name": "python",
   "nbconvert_exporter": "python",
   "pygments_lexer": "ipython3",
   "version": "3.7.0"
  }
 },
 "nbformat": 4,
 "nbformat_minor": 2
}
